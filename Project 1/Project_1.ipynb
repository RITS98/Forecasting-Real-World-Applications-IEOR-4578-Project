{
 "cells": [
  {
   "cell_type": "markdown",
   "id": "64f83655-20ba-487f-b1a9-33b79773b35d",
   "metadata": {
    "panel-layout": {
     "height": 60.59375,
     "visible": true,
     "width": 100
    }
   },
   "source": [
    "# **Import Package**"
   ]
  },
  {
   "cell_type": "code",
   "execution_count": 1,
   "id": "8d895efc-9f76-478a-b8f9-cf2f571af7be",
   "metadata": {},
   "outputs": [],
   "source": [
    "import numpy as np\n",
    "import pandas as pd\n",
    "import matplotlib.pyplot as plt\n",
    "import seaborn as sns\n",
    "from collections import Counter\n",
    "import os\n",
    "import missingno as msno"
   ]
  },
  {
   "cell_type": "markdown",
   "id": "a6042e50-f0d8-4e47-b5e1-a08262719199",
   "metadata": {
    "panel-layout": {
     "height": 60.59375,
     "visible": true,
     "width": 100
    }
   },
   "source": [
    "# **Reading the data**"
   ]
  },
  {
   "cell_type": "code",
   "execution_count": 2,
   "id": "387e7fea-a54b-496f-8b71-19e232851e26",
   "metadata": {},
   "outputs": [],
   "source": [
    "path = 'online_retail_II.xlsx'\n",
    "sheet1 = pd.read_excel(path, \n",
    "                   sheet_name=0\n",
    "                  )\n",
    "sheet2 = pd.read_excel(path, \n",
    "                       sheet_name=1\n",
    "                      )\n",
    "df = pd.concat([sheet1, sheet2], axis=0, ignore_index=True)"
   ]
  },
  {
   "cell_type": "markdown",
   "id": "272ee990-9208-4f5f-a196-039a962319f8",
   "metadata": {
    "panel-layout": {
     "height": 725.921875,
     "visible": true,
     "width": 100
    }
   },
   "source": [
    "<div style=\"background-color: #fff9c4; padding: 10px; border-radius: 1px; border: 1px solid #d3d3d3;\">\n",
    "    <h2><strong>Dataset Details:</strong></h2>\n",
    "    This Online Retail II data set contains all the transactions occurring for a UK-based and registered, non-store online retail between 01/12/2009 and 09/12/2011. The company mainly sells unique all-occasion gift-ware. Many customers of the company are wholesalers.<br>\n",
    "    Link - <a href=\"https://archive.ics.uci.edu/dataset/502/online+retail+ii\" target=\"_blank\">Online Retail Transaction Data</a>\n",
    "\n",
    " \n",
    "#### **Column Details**\n",
    "- **`InvoiceNo`:**\n",
    "    - Invoice number.\n",
    "    - Nominal.\n",
    "    - A 6-digit integral number uniquely assigned to each transaction. If this code starts with the letter 'c', it indicates a cancellation.  \n",
    "- **`StockCode`:**\n",
    "    - Product (item) code.\n",
    "    - Nominal.\n",
    "    - A 5-digit integral number uniquely assigned to each distinct product.  \n",
    "- **`Description`:**\n",
    "    - Product (item) name.\n",
    "    - Nominal.  \n",
    "- **`Quantity`:**\n",
    "    - The quantities of each product (item) per transaction.\n",
    "    - Numeric.  \n",
    "- **`InvoiceDate`:**\n",
    "    - Invoice date and time.\n",
    "    - Numeric.\n",
    "    - The day and time when a transaction was generated.\n",
    "- **`Price`:**\n",
    "    - Unit price.\n",
    "    - Numeric.\n",
    "    - Product price per unit in sterling (Â£).  \n",
    "- **`CustomerID`:**\n",
    "    - Customer number.\n",
    "    - Nominal.\n",
    "    - A 5-digit integral number uniquely assigned to each customer.  \n",
    "- **`Country`:**\n",
    "    - Country name.\n",
    "    - Nominal.\n",
    "    - The name of the country where a customer resides.\n",
    "</div>"
   ]
  },
  {
   "cell_type": "code",
   "execution_count": 3,
   "id": "e13e875b-a230-45f0-87d6-2a38900029e6",
   "metadata": {
    "panel-layout": {
     "height": 315,
     "visible": true,
     "width": 100
    }
   },
   "outputs": [
    {
     "data": {
      "text/html": [
       "<div>\n",
       "<style scoped>\n",
       "    .dataframe tbody tr th:only-of-type {\n",
       "        vertical-align: middle;\n",
       "    }\n",
       "\n",
       "    .dataframe tbody tr th {\n",
       "        vertical-align: top;\n",
       "    }\n",
       "\n",
       "    .dataframe thead th {\n",
       "        text-align: right;\n",
       "    }\n",
       "</style>\n",
       "<table border=\"1\" class=\"dataframe\">\n",
       "  <thead>\n",
       "    <tr style=\"text-align: right;\">\n",
       "      <th></th>\n",
       "      <th>Invoice</th>\n",
       "      <th>StockCode</th>\n",
       "      <th>Description</th>\n",
       "      <th>Quantity</th>\n",
       "      <th>InvoiceDate</th>\n",
       "      <th>Price</th>\n",
       "      <th>Customer ID</th>\n",
       "      <th>Country</th>\n",
       "    </tr>\n",
       "  </thead>\n",
       "  <tbody>\n",
       "    <tr>\n",
       "      <th>0</th>\n",
       "      <td>489434</td>\n",
       "      <td>85048</td>\n",
       "      <td>15CM CHRISTMAS GLASS BALL 20 LIGHTS</td>\n",
       "      <td>12</td>\n",
       "      <td>2009-12-01 07:45:00</td>\n",
       "      <td>6.95</td>\n",
       "      <td>13085.0</td>\n",
       "      <td>United Kingdom</td>\n",
       "    </tr>\n",
       "    <tr>\n",
       "      <th>1</th>\n",
       "      <td>489434</td>\n",
       "      <td>79323P</td>\n",
       "      <td>PINK CHERRY LIGHTS</td>\n",
       "      <td>12</td>\n",
       "      <td>2009-12-01 07:45:00</td>\n",
       "      <td>6.75</td>\n",
       "      <td>13085.0</td>\n",
       "      <td>United Kingdom</td>\n",
       "    </tr>\n",
       "    <tr>\n",
       "      <th>2</th>\n",
       "      <td>489434</td>\n",
       "      <td>79323W</td>\n",
       "      <td>WHITE CHERRY LIGHTS</td>\n",
       "      <td>12</td>\n",
       "      <td>2009-12-01 07:45:00</td>\n",
       "      <td>6.75</td>\n",
       "      <td>13085.0</td>\n",
       "      <td>United Kingdom</td>\n",
       "    </tr>\n",
       "    <tr>\n",
       "      <th>3</th>\n",
       "      <td>489434</td>\n",
       "      <td>22041</td>\n",
       "      <td>RECORD FRAME 7\" SINGLE SIZE</td>\n",
       "      <td>48</td>\n",
       "      <td>2009-12-01 07:45:00</td>\n",
       "      <td>2.10</td>\n",
       "      <td>13085.0</td>\n",
       "      <td>United Kingdom</td>\n",
       "    </tr>\n",
       "    <tr>\n",
       "      <th>4</th>\n",
       "      <td>489434</td>\n",
       "      <td>21232</td>\n",
       "      <td>STRAWBERRY CERAMIC TRINKET BOX</td>\n",
       "      <td>24</td>\n",
       "      <td>2009-12-01 07:45:00</td>\n",
       "      <td>1.25</td>\n",
       "      <td>13085.0</td>\n",
       "      <td>United Kingdom</td>\n",
       "    </tr>\n",
       "  </tbody>\n",
       "</table>\n",
       "</div>"
      ],
      "text/plain": [
       "  Invoice StockCode                          Description  Quantity  \\\n",
       "0  489434     85048  15CM CHRISTMAS GLASS BALL 20 LIGHTS        12   \n",
       "1  489434    79323P                   PINK CHERRY LIGHTS        12   \n",
       "2  489434    79323W                  WHITE CHERRY LIGHTS        12   \n",
       "3  489434     22041         RECORD FRAME 7\" SINGLE SIZE         48   \n",
       "4  489434     21232       STRAWBERRY CERAMIC TRINKET BOX        24   \n",
       "\n",
       "          InvoiceDate  Price  Customer ID         Country  \n",
       "0 2009-12-01 07:45:00   6.95      13085.0  United Kingdom  \n",
       "1 2009-12-01 07:45:00   6.75      13085.0  United Kingdom  \n",
       "2 2009-12-01 07:45:00   6.75      13085.0  United Kingdom  \n",
       "3 2009-12-01 07:45:00   2.10      13085.0  United Kingdom  \n",
       "4 2009-12-01 07:45:00   1.25      13085.0  United Kingdom  "
      ]
     },
     "execution_count": 3,
     "metadata": {},
     "output_type": "execute_result"
    }
   ],
   "source": [
    "df.head()"
   ]
  },
  {
   "cell_type": "markdown",
   "id": "c3169bcd-2fb2-427f-bd58-177352f4b20b",
   "metadata": {
    "panel-layout": {
     "height": 44.0859375,
     "visible": true,
     "width": 100
    }
   },
   "source": [
    "### **Data types of each column**"
   ]
  },
  {
   "cell_type": "code",
   "execution_count": 4,
   "id": "bf32c11a-3829-4732-9059-8de03c6b8ab8",
   "metadata": {
    "panel-layout": {
     "height": 0,
     "visible": true,
     "width": 100
    }
   },
   "outputs": [
    {
     "name": "stdout",
     "output_type": "stream",
     "text": [
      "<class 'pandas.core.frame.DataFrame'>\n",
      "RangeIndex: 1067371 entries, 0 to 1067370\n",
      "Data columns (total 8 columns):\n",
      " #   Column       Non-Null Count    Dtype         \n",
      "---  ------       --------------    -----         \n",
      " 0   Invoice      1067371 non-null  object        \n",
      " 1   StockCode    1067371 non-null  object        \n",
      " 2   Description  1062989 non-null  object        \n",
      " 3   Quantity     1067371 non-null  int64         \n",
      " 4   InvoiceDate  1067371 non-null  datetime64[ns]\n",
      " 5   Price        1067371 non-null  float64       \n",
      " 6   Customer ID  824364 non-null   float64       \n",
      " 7   Country      1067371 non-null  object        \n",
      "dtypes: datetime64[ns](1), float64(2), int64(1), object(4)\n",
      "memory usage: 65.1+ MB\n"
     ]
    }
   ],
   "source": [
    "df.info()"
   ]
  },
  {
   "cell_type": "markdown",
   "id": "a42564ed-ef37-4d73-bdad-efd477f5eb19",
   "metadata": {
    "panel-layout": {
     "height": 44.0859375,
     "visible": true,
     "width": 100
    }
   },
   "source": [
    "### **Summarization of Data**"
   ]
  },
  {
   "cell_type": "code",
   "execution_count": 5,
   "id": "25d156ea-1ae5-4a30-a4d1-b56bcaa814e5",
   "metadata": {
    "panel-layout": {
     "height": 489,
     "visible": true,
     "width": 100
    }
   },
   "outputs": [
    {
     "data": {
      "text/html": [
       "<div>\n",
       "<style scoped>\n",
       "    .dataframe tbody tr th:only-of-type {\n",
       "        vertical-align: middle;\n",
       "    }\n",
       "\n",
       "    .dataframe tbody tr th {\n",
       "        vertical-align: top;\n",
       "    }\n",
       "\n",
       "    .dataframe thead th {\n",
       "        text-align: right;\n",
       "    }\n",
       "</style>\n",
       "<table border=\"1\" class=\"dataframe\">\n",
       "  <thead>\n",
       "    <tr style=\"text-align: right;\">\n",
       "      <th></th>\n",
       "      <th>Invoice</th>\n",
       "      <th>StockCode</th>\n",
       "      <th>Description</th>\n",
       "      <th>Quantity</th>\n",
       "      <th>InvoiceDate</th>\n",
       "      <th>Price</th>\n",
       "      <th>Customer ID</th>\n",
       "      <th>Country</th>\n",
       "    </tr>\n",
       "  </thead>\n",
       "  <tbody>\n",
       "    <tr>\n",
       "      <th>count</th>\n",
       "      <td>1067371.0</td>\n",
       "      <td>1067371</td>\n",
       "      <td>1062989</td>\n",
       "      <td>1.067371e+06</td>\n",
       "      <td>1067371</td>\n",
       "      <td>1.067371e+06</td>\n",
       "      <td>824364.000000</td>\n",
       "      <td>1067371</td>\n",
       "    </tr>\n",
       "    <tr>\n",
       "      <th>unique</th>\n",
       "      <td>53628.0</td>\n",
       "      <td>5305</td>\n",
       "      <td>5698</td>\n",
       "      <td>NaN</td>\n",
       "      <td>NaN</td>\n",
       "      <td>NaN</td>\n",
       "      <td>NaN</td>\n",
       "      <td>43</td>\n",
       "    </tr>\n",
       "    <tr>\n",
       "      <th>top</th>\n",
       "      <td>537434.0</td>\n",
       "      <td>85123A</td>\n",
       "      <td>WHITE HANGING HEART T-LIGHT HOLDER</td>\n",
       "      <td>NaN</td>\n",
       "      <td>NaN</td>\n",
       "      <td>NaN</td>\n",
       "      <td>NaN</td>\n",
       "      <td>United Kingdom</td>\n",
       "    </tr>\n",
       "    <tr>\n",
       "      <th>freq</th>\n",
       "      <td>1350.0</td>\n",
       "      <td>5829</td>\n",
       "      <td>5918</td>\n",
       "      <td>NaN</td>\n",
       "      <td>NaN</td>\n",
       "      <td>NaN</td>\n",
       "      <td>NaN</td>\n",
       "      <td>981330</td>\n",
       "    </tr>\n",
       "    <tr>\n",
       "      <th>mean</th>\n",
       "      <td>NaN</td>\n",
       "      <td>NaN</td>\n",
       "      <td>NaN</td>\n",
       "      <td>9.938898e+00</td>\n",
       "      <td>2011-01-02 21:13:55.394028544</td>\n",
       "      <td>4.649388e+00</td>\n",
       "      <td>15324.638504</td>\n",
       "      <td>NaN</td>\n",
       "    </tr>\n",
       "    <tr>\n",
       "      <th>min</th>\n",
       "      <td>NaN</td>\n",
       "      <td>NaN</td>\n",
       "      <td>NaN</td>\n",
       "      <td>-8.099500e+04</td>\n",
       "      <td>2009-12-01 07:45:00</td>\n",
       "      <td>-5.359436e+04</td>\n",
       "      <td>12346.000000</td>\n",
       "      <td>NaN</td>\n",
       "    </tr>\n",
       "    <tr>\n",
       "      <th>25%</th>\n",
       "      <td>NaN</td>\n",
       "      <td>NaN</td>\n",
       "      <td>NaN</td>\n",
       "      <td>1.000000e+00</td>\n",
       "      <td>2010-07-09 09:46:00</td>\n",
       "      <td>1.250000e+00</td>\n",
       "      <td>13975.000000</td>\n",
       "      <td>NaN</td>\n",
       "    </tr>\n",
       "    <tr>\n",
       "      <th>50%</th>\n",
       "      <td>NaN</td>\n",
       "      <td>NaN</td>\n",
       "      <td>NaN</td>\n",
       "      <td>3.000000e+00</td>\n",
       "      <td>2010-12-07 15:28:00</td>\n",
       "      <td>2.100000e+00</td>\n",
       "      <td>15255.000000</td>\n",
       "      <td>NaN</td>\n",
       "    </tr>\n",
       "    <tr>\n",
       "      <th>75%</th>\n",
       "      <td>NaN</td>\n",
       "      <td>NaN</td>\n",
       "      <td>NaN</td>\n",
       "      <td>1.000000e+01</td>\n",
       "      <td>2011-07-22 10:23:00</td>\n",
       "      <td>4.150000e+00</td>\n",
       "      <td>16797.000000</td>\n",
       "      <td>NaN</td>\n",
       "    </tr>\n",
       "    <tr>\n",
       "      <th>max</th>\n",
       "      <td>NaN</td>\n",
       "      <td>NaN</td>\n",
       "      <td>NaN</td>\n",
       "      <td>8.099500e+04</td>\n",
       "      <td>2011-12-09 12:50:00</td>\n",
       "      <td>3.897000e+04</td>\n",
       "      <td>18287.000000</td>\n",
       "      <td>NaN</td>\n",
       "    </tr>\n",
       "    <tr>\n",
       "      <th>std</th>\n",
       "      <td>NaN</td>\n",
       "      <td>NaN</td>\n",
       "      <td>NaN</td>\n",
       "      <td>1.727058e+02</td>\n",
       "      <td>NaN</td>\n",
       "      <td>1.235531e+02</td>\n",
       "      <td>1697.464450</td>\n",
       "      <td>NaN</td>\n",
       "    </tr>\n",
       "  </tbody>\n",
       "</table>\n",
       "</div>"
      ],
      "text/plain": [
       "          Invoice StockCode                         Description      Quantity  \\\n",
       "count   1067371.0   1067371                             1062989  1.067371e+06   \n",
       "unique    53628.0      5305                                5698           NaN   \n",
       "top      537434.0    85123A  WHITE HANGING HEART T-LIGHT HOLDER           NaN   \n",
       "freq       1350.0      5829                                5918           NaN   \n",
       "mean          NaN       NaN                                 NaN  9.938898e+00   \n",
       "min           NaN       NaN                                 NaN -8.099500e+04   \n",
       "25%           NaN       NaN                                 NaN  1.000000e+00   \n",
       "50%           NaN       NaN                                 NaN  3.000000e+00   \n",
       "75%           NaN       NaN                                 NaN  1.000000e+01   \n",
       "max           NaN       NaN                                 NaN  8.099500e+04   \n",
       "std           NaN       NaN                                 NaN  1.727058e+02   \n",
       "\n",
       "                          InvoiceDate         Price    Customer ID  \\\n",
       "count                         1067371  1.067371e+06  824364.000000   \n",
       "unique                            NaN           NaN            NaN   \n",
       "top                               NaN           NaN            NaN   \n",
       "freq                              NaN           NaN            NaN   \n",
       "mean    2011-01-02 21:13:55.394028544  4.649388e+00   15324.638504   \n",
       "min               2009-12-01 07:45:00 -5.359436e+04   12346.000000   \n",
       "25%               2010-07-09 09:46:00  1.250000e+00   13975.000000   \n",
       "50%               2010-12-07 15:28:00  2.100000e+00   15255.000000   \n",
       "75%               2011-07-22 10:23:00  4.150000e+00   16797.000000   \n",
       "max               2011-12-09 12:50:00  3.897000e+04   18287.000000   \n",
       "std                               NaN  1.235531e+02    1697.464450   \n",
       "\n",
       "               Country  \n",
       "count          1067371  \n",
       "unique              43  \n",
       "top     United Kingdom  \n",
       "freq            981330  \n",
       "mean               NaN  \n",
       "min                NaN  \n",
       "25%                NaN  \n",
       "50%                NaN  \n",
       "75%                NaN  \n",
       "max                NaN  \n",
       "std                NaN  "
      ]
     },
     "execution_count": 5,
     "metadata": {},
     "output_type": "execute_result"
    }
   ],
   "source": [
    "df.describe(include='all')"
   ]
  },
  {
   "cell_type": "markdown",
   "id": "e06b25d4-49c0-428b-aa4e-d87dd22b3cd5",
   "metadata": {
    "panel-layout": {
     "height": 44.0859375,
     "visible": true,
     "width": 100
    }
   },
   "source": [
    "### **How many records are there in the dataset?**"
   ]
  },
  {
   "cell_type": "code",
   "execution_count": 6,
   "id": "61de256a-beaa-443b-8ea4-ff3e7d5a6294",
   "metadata": {
    "panel-layout": {
     "height": 0,
     "visible": true,
     "width": 100
    }
   },
   "outputs": [
    {
     "name": "stdout",
     "output_type": "stream",
     "text": [
      "Number of records in the dataset:  1067371\n"
     ]
    }
   ],
   "source": [
    "print(\"Number of records in the dataset: \", df.shape[0])"
   ]
  },
  {
   "cell_type": "markdown",
   "id": "ad6f7516-228e-4f0d-8ced-d9a3372303c1",
   "metadata": {
    "panel-layout": {
     "height": 44.0859375,
     "visible": true,
     "width": 100
    }
   },
   "source": [
    "### **Missing Value Analysis**"
   ]
  },
  {
   "cell_type": "code",
   "execution_count": 7,
   "id": "e2535361-5a97-4079-b648-aa6c8b97daf1",
   "metadata": {
    "panel-layout": {
     "height": 249.5,
     "visible": true,
     "width": 100
    }
   },
   "outputs": [
    {
     "data": {
      "text/plain": [
       "Invoice         0.000000\n",
       "StockCode       0.000000\n",
       "Description     0.410541\n",
       "Quantity        0.000000\n",
       "InvoiceDate     0.000000\n",
       "Price           0.000000\n",
       "Customer ID    22.766873\n",
       "Country         0.000000\n",
       "dtype: float64"
      ]
     },
     "execution_count": 7,
     "metadata": {},
     "output_type": "execute_result"
    }
   ],
   "source": [
    "df.isnull().sum() / df.shape[0] * 100"
   ]
  },
  {
   "cell_type": "code",
   "execution_count": 8,
   "id": "49a3817f-15ac-455e-abf6-8df51f9ca8ee",
   "metadata": {
    "panel-layout": {
     "height": 1477.140625,
     "visible": true,
     "width": 100
    }
   },
   "outputs": [
    {
     "data": {
      "text/plain": [
       "<Axes: >"
      ]
     },
     "execution_count": 8,
     "metadata": {},
     "output_type": "execute_result"
    },
    {
     "data": {
      "image/png": "[encoded data removed]",
      "text/plain": [
       "<Figure size 2500x1000 with 3 Axes>"
      ]
     },
     "metadata": {},
     "output_type": "display_data"
    }
   ],
   "source": [
    "msno.bar(df)"
   ]
  },
  {
   "cell_type": "markdown",
   "id": "531c279e-5f9f-4368-8111-92f9326a4b70",
   "metadata": {
    "panel-layout": {
     "height": 183.84375,
     "visible": true,
     "width": 100
    }
   },
   "source": [
    "<div style=\"background-color: #fff9c4; padding: 10px; border-radius: 1px; border: 1px solid #d3d3d3;\">\n",
    "\n",
    "**Note:**  \n",
    "From the above missing value analysis, it is evident that two columns are missing majority of data while other columns has no missing data.\n",
    "\n",
    "The column names are:\n",
    "- **`Description (0.411 %)`**\n",
    "- **`Customer ID (22.767 %)`**\n",
    "</div>"
   ]
  },
  {
   "cell_type": "code",
   "execution_count": 9,
   "id": "ca016413-f350-450c-9a66-83daa6fb4fbc",
   "metadata": {
    "panel-layout": {
     "height": 1707,
     "visible": true,
     "width": 100
    }
   },
   "outputs": [
    {
     "data": {
      "text/html": [
       "<div>\n",
       "<style scoped>\n",
       "    .dataframe tbody tr th:only-of-type {\n",
       "        vertical-align: middle;\n",
       "    }\n",
       "\n",
       "    .dataframe tbody tr th {\n",
       "        vertical-align: top;\n",
       "    }\n",
       "\n",
       "    .dataframe thead th {\n",
       "        text-align: right;\n",
       "    }\n",
       "</style>\n",
       "<table border=\"1\" class=\"dataframe\">\n",
       "  <thead>\n",
       "    <tr style=\"text-align: right;\">\n",
       "      <th></th>\n",
       "      <th>Invoice</th>\n",
       "      <th>StockCode</th>\n",
       "      <th>Description</th>\n",
       "      <th>Quantity</th>\n",
       "      <th>InvoiceDate</th>\n",
       "      <th>Price</th>\n",
       "      <th>Customer ID</th>\n",
       "      <th>Country</th>\n",
       "    </tr>\n",
       "  </thead>\n",
       "  <tbody>\n",
       "    <tr>\n",
       "      <th>470</th>\n",
       "      <td>489521</td>\n",
       "      <td>21646</td>\n",
       "      <td>NaN</td>\n",
       "      <td>-50</td>\n",
       "      <td>2009-12-01 11:44:00</td>\n",
       "      <td>0.0</td>\n",
       "      <td>NaN</td>\n",
       "      <td>United Kingdom</td>\n",
       "    </tr>\n",
       "    <tr>\n",
       "      <th>3114</th>\n",
       "      <td>489655</td>\n",
       "      <td>20683</td>\n",
       "      <td>NaN</td>\n",
       "      <td>-44</td>\n",
       "      <td>2009-12-01 17:26:00</td>\n",
       "      <td>0.0</td>\n",
       "      <td>NaN</td>\n",
       "      <td>United Kingdom</td>\n",
       "    </tr>\n",
       "    <tr>\n",
       "      <th>3161</th>\n",
       "      <td>489659</td>\n",
       "      <td>21350</td>\n",
       "      <td>NaN</td>\n",
       "      <td>230</td>\n",
       "      <td>2009-12-01 17:39:00</td>\n",
       "      <td>0.0</td>\n",
       "      <td>NaN</td>\n",
       "      <td>United Kingdom</td>\n",
       "    </tr>\n",
       "    <tr>\n",
       "      <th>3731</th>\n",
       "      <td>489781</td>\n",
       "      <td>84292</td>\n",
       "      <td>NaN</td>\n",
       "      <td>17</td>\n",
       "      <td>2009-12-02 11:45:00</td>\n",
       "      <td>0.0</td>\n",
       "      <td>NaN</td>\n",
       "      <td>United Kingdom</td>\n",
       "    </tr>\n",
       "    <tr>\n",
       "      <th>4296</th>\n",
       "      <td>489806</td>\n",
       "      <td>18010</td>\n",
       "      <td>NaN</td>\n",
       "      <td>-770</td>\n",
       "      <td>2009-12-02 12:42:00</td>\n",
       "      <td>0.0</td>\n",
       "      <td>NaN</td>\n",
       "      <td>United Kingdom</td>\n",
       "    </tr>\n",
       "  </tbody>\n",
       "</table>\n",
       "</div>"
      ],
      "text/plain": [
       "     Invoice StockCode Description  Quantity         InvoiceDate  Price  \\\n",
       "470   489521     21646         NaN       -50 2009-12-01 11:44:00    0.0   \n",
       "3114  489655     20683         NaN       -44 2009-12-01 17:26:00    0.0   \n",
       "3161  489659     21350         NaN       230 2009-12-01 17:39:00    0.0   \n",
       "3731  489781     84292         NaN        17 2009-12-02 11:45:00    0.0   \n",
       "4296  489806     18010         NaN      -770 2009-12-02 12:42:00    0.0   \n",
       "\n",
       "      Customer ID         Country  \n",
       "470           NaN  United Kingdom  \n",
       "3114          NaN  United Kingdom  \n",
       "3161          NaN  United Kingdom  \n",
       "3731          NaN  United Kingdom  \n",
       "4296          NaN  United Kingdom  "
      ]
     },
     "execution_count": 9,
     "metadata": {},
     "output_type": "execute_result"
    }
   ],
   "source": [
    "df[df['Description'].isna()].head()"
   ]
  },
  {
   "cell_type": "code",
   "execution_count": 10,
   "id": "4c6bf2dc-7932-4556-88b5-d075676ab003",
   "metadata": {
    "panel-layout": {
     "height": 1450,
     "visible": true,
     "width": 100
    }
   },
   "outputs": [
    {
     "name": "stdout",
     "output_type": "stream",
     "text": [
      "Number of records with missing Description:  4382\n"
     ]
    }
   ],
   "source": [
    "print(\"Number of records with missing Description: \", df[df['Description'].isna()].shape[0])"
   ]
  },
  {
   "cell_type": "code",
   "execution_count": 11,
   "id": "68d5132a-d59f-4098-a338-db050ea839c7",
   "metadata": {
    "panel-layout": {
     "height": 1540.5,
     "visible": true,
     "width": 100
    }
   },
   "outputs": [
    {
     "data": {
      "text/plain": [
       "Price\n",
       "0.0    4382\n",
       "Name: count, dtype: int64"
      ]
     },
     "execution_count": 11,
     "metadata": {},
     "output_type": "execute_result"
    }
   ],
   "source": [
    "df[df['Description'].isna()]['Price'].value_counts()"
   ]
  },
  {
   "cell_type": "code",
   "execution_count": 12,
   "id": "4993eae7-177b-452f-97c3-984544d85835",
   "metadata": {
    "panel-layout": {
     "height": 1514,
     "visible": true,
     "width": 100
    }
   },
   "outputs": [
    {
     "data": {
      "text/plain": [
       "Series([], Name: count, dtype: int64)"
      ]
     },
     "execution_count": 12,
     "metadata": {},
     "output_type": "execute_result"
    }
   ],
   "source": [
    "df[df['Description'].isna()]['Customer ID'].value_counts()"
   ]
  },
  {
   "cell_type": "code",
   "execution_count": 13,
   "id": "58733157-90e0-4701-9045-4e9ac18624ed",
   "metadata": {
    "panel-layout": {
     "height": 1567,
     "visible": true,
     "width": 100
    }
   },
   "outputs": [
    {
     "data": {
      "text/plain": [
       "Quantity Type\n",
       "Less than 0    2689\n",
       "Otherwise      1693\n",
       "Name: count, dtype: int64"
      ]
     },
     "execution_count": 13,
     "metadata": {},
     "output_type": "execute_result"
    }
   ],
   "source": [
    "quantity_type = df[df['Description'].isna()]['Quantity'].value_counts()\n",
    "quantity_type = quantity_type.reset_index()\n",
    "quantity_type['Quantity Type'] = quantity_type['Quantity'].apply(lambda a: 'Less than 0' if a < 0 else 'Otherwise')\n",
    "quantity_type.groupby('Quantity Type')['count'].sum()"
   ]
  },
  {
   "cell_type": "markdown",
   "id": "25c5312c-256c-4820-abe0-147fc000c13f",
   "metadata": {
    "panel-layout": {
     "height": 236.765625,
     "visible": true,
     "width": 100
    }
   },
   "source": [
    "<div style=\"background-color: #fff9c4; padding: 10px; border-radius: 1px; border: 1px solid #d3d3d3;\">\n",
    "\n",
    "**Note:**    \n",
    "There are **4382** rows where the **`Description`** column has missing values.  \n",
    "\n",
    "Upon further analysis, the **`Price`** column has only **0.0** values for each of the missing value of the **`Description`** column.  \n",
    "The corresponding **`Customer ID`** is also missing.  \n",
    "Along with that, the **`Quantity`** column has majority values less than **0**, which does not make any sense.  \n",
    "  \n",
    "The data might be either corrupted or recorded wrongly for these entries.  \n",
    "This data should be dropped so that it does not affect the efficiency of ML models adversely.\n",
    "</div>"
   ]
  },
  {
   "cell_type": "code",
   "execution_count": 14,
   "id": "096d0da2-9e1f-4c05-b6fb-da1714fe80b2",
   "metadata": {
    "panel-layout": {
     "height": 1450,
     "visible": true,
     "width": 100
    }
   },
   "outputs": [],
   "source": [
    "df.dropna(subset=['Description'], inplace=True)"
   ]
  },
  {
   "cell_type": "code",
   "execution_count": 15,
   "id": "83c157dc-6533-4504-83f1-a7453b0d461b",
   "metadata": {
    "panel-layout": {
     "height": 1477.140625,
     "visible": true,
     "width": 100
    }
   },
   "outputs": [
    {
     "data": {
      "text/plain": [
       "(1062989, 8)"
      ]
     },
     "execution_count": 15,
     "metadata": {},
     "output_type": "execute_result"
    }
   ],
   "source": [
    "df.shape"
   ]
  },
  {
   "cell_type": "code",
   "execution_count": 16,
   "id": "6ca66aa2-313e-4df8-846c-666aa6a7b1d3",
   "metadata": {
    "panel-layout": {
     "height": 1477.140625,
     "visible": true,
     "width": 100
    }
   },
   "outputs": [
    {
     "data": {
      "text/plain": [
       "238625"
      ]
     },
     "execution_count": 16,
     "metadata": {},
     "output_type": "execute_result"
    }
   ],
   "source": [
    "df[df['Customer ID'].isna()].shape[0]"
   ]
  },
  {
   "cell_type": "code",
   "execution_count": 17,
   "id": "93a1b77c-131a-43b3-a2c9-f5dc8e1c8ed7",
   "metadata": {
    "panel-layout": {
     "height": 1477.140625,
     "visible": true,
     "width": 100
    }
   },
   "outputs": [
    {
     "data": {
      "text/plain": [
       "768"
      ]
     },
     "execution_count": 17,
     "metadata": {},
     "output_type": "execute_result"
    }
   ],
   "source": [
    "df[(df['Customer ID'].isna()) & (df['Price'] == 0.0) & (df['Quantity'] <= 0)].shape[0]"
   ]
  },
  {
   "cell_type": "code",
   "execution_count": 18,
   "id": "89655914-d3de-4d52-a39b-740588d847a4",
   "metadata": {
    "panel-layout": {
     "height": 1477.140625,
     "visible": true,
     "width": 100
    }
   },
   "outputs": [
    {
     "data": {
      "text/plain": [
       "981"
      ]
     },
     "execution_count": 18,
     "metadata": {},
     "output_type": "execute_result"
    }
   ],
   "source": [
    "df[(df['Customer ID'].isna()) & (df['Price'] == 0.0) & (df['Quantity'] > 0)].shape[0]"
   ]
  },
  {
   "cell_type": "code",
   "execution_count": 19,
   "id": "00147612-548f-418f-a91b-56480e843ab9",
   "metadata": {
    "panel-layout": {
     "height": 1477.140625,
     "visible": true,
     "width": 100
    }
   },
   "outputs": [
    {
     "data": {
      "text/plain": [
       "749"
      ]
     },
     "execution_count": 19,
     "metadata": {},
     "output_type": "execute_result"
    }
   ],
   "source": [
    "df[(df['Customer ID'].isna()) & (df['Price'] > 0.0) & (df['Quantity'] <= 0)].shape[0]"
   ]
  },
  {
   "cell_type": "code",
   "execution_count": 20,
   "id": "d5d2afd6-2bda-41a0-b909-8ec730912640",
   "metadata": {
    "panel-layout": {
     "height": 1477.140625,
     "visible": true,
     "width": 100
    }
   },
   "outputs": [
    {
     "data": {
      "text/plain": [
       "5"
      ]
     },
     "execution_count": 20,
     "metadata": {},
     "output_type": "execute_result"
    }
   ],
   "source": [
    "df[(df['Customer ID'].isna()) & (df['Price'] < 0.0) & (df['Quantity'] > 0)].shape[0]"
   ]
  },
  {
   "cell_type": "code",
   "execution_count": 21,
   "id": "3c429055-5375-42e9-aa25-fa8f02b79f6e",
   "metadata": {
    "panel-layout": {
     "height": 1477.140625,
     "visible": true,
     "width": 100
    }
   },
   "outputs": [
    {
     "data": {
      "text/plain": [
       "236122"
      ]
     },
     "execution_count": 21,
     "metadata": {},
     "output_type": "execute_result"
    }
   ],
   "source": [
    "df[(df['Customer ID'].isna()) & (df['Price'] > 0.0) & (df['Quantity'] > 0)].shape[0]"
   ]
  },
  {
   "cell_type": "markdown",
   "id": "127ba41c-9e26-4a97-830a-bab5e85989e0",
   "metadata": {
    "panel-layout": {
     "height": 277.6875,
     "visible": true,
     "width": 100
    }
   },
   "source": [
    "<div style=\"background-color: #fff9c4; padding: 10px; border-radius: 1px; border: 1px solid #d3d3d3;\">\n",
    "\n",
    "**Note:**\n",
    "- There are **238625** missing values in the **`Customer ID`** column.\n",
    "- There are multiple records in the data where the **`Customer ID`** is missing and the values of other prominant columns like **`Quantity`** and **`Price`** does not make any sense.\n",
    "    - There are **768** records where **`Price`** is **0.0** but the **`Quantity`** is less than **0**.  \n",
    "    - There ate **981** records whre **`Price`** is equal to **0.0** but **`Quantity`** is greater than **0**.\n",
    "    - There are **5** records where the **`Price`** is negative.\n",
    "    - Finally, there are **749** records where **`Price`** is greater than **0.0** but the **`Quantity`** is less than **0**.\n",
    "- These ambiguous records which holds no logic needs to be dropped.\n",
    "- There are **236122** records which are logical but the **`Customer ID`** is missing can be handled by imputing with some common value like **Unknown Customer ID**.\n",
    "\n",
    "</div>"
   ]
  },
  {
   "cell_type": "code",
   "execution_count": 22,
   "id": "e5643c18-487e-434d-a92e-caa91f7ef9f3",
   "metadata": {},
   "outputs": [],
   "source": [
    "df = df[~((df['Customer ID'].isna()) & (df['Price'] == 0.0) & (df['Quantity'] <= 0))]\n",
    "df = df[~((df['Customer ID'].isna()) & (df['Price'] == 0.0) & (df['Quantity'] > 0))]\n",
    "df = df[~((df['Customer ID'].isna()) & (df['Price'] > 0.0) & (df['Quantity'] <= 0))]\n",
    "df = df[~((df['Customer ID'].isna()) & (df['Price'] < 0.0) & (df['Quantity'] > 0))]"
   ]
  },
  {
   "cell_type": "code",
   "execution_count": 23,
   "id": "aaddc502-295a-4231-8f53-6a76ee4f4436",
   "metadata": {
    "panel-layout": {
     "height": 1477.140625,
     "visible": true,
     "width": 100
    }
   },
   "outputs": [
    {
     "data": {
      "text/plain": [
       "236122"
      ]
     },
     "execution_count": 23,
     "metadata": {},
     "output_type": "execute_result"
    }
   ],
   "source": [
    "df[df['Customer ID'].isna()].shape[0]"
   ]
  },
  {
   "cell_type": "code",
   "execution_count": 24,
   "id": "d36842ad-74cb-4c13-8d11-668eb618194e",
   "metadata": {},
   "outputs": [],
   "source": [
    "df['Customer ID'] = df['Customer ID'].fillna(0).astype(int)"
   ]
  },
  {
   "cell_type": "code",
   "execution_count": 25,
   "id": "cbdc5d6b-51f3-4e4a-82bd-d89972d94d43",
   "metadata": {
    "panel-layout": {
     "height": 1620,
     "visible": true,
     "width": 100
    }
   },
   "outputs": [
    {
     "data": {
      "text/plain": [
       "0    13085\n",
       "1    13085\n",
       "2    13085\n",
       "3    13085\n",
       "4    13085\n",
       "Name: Customer ID, dtype: int64"
      ]
     },
     "execution_count": 25,
     "metadata": {},
     "output_type": "execute_result"
    }
   ],
   "source": [
    "df['Customer ID'].head()"
   ]
  },
  {
   "cell_type": "code",
   "execution_count": 26,
   "id": "1ee3a993-692e-4ce0-b81c-6a3bea9e02e8",
   "metadata": {
    "panel-layout": {
     "height": 1765,
     "visible": true,
     "width": 100
    }
   },
   "outputs": [
    {
     "data": {
      "text/html": [
       "<div>\n",
       "<style scoped>\n",
       "    .dataframe tbody tr th:only-of-type {\n",
       "        vertical-align: middle;\n",
       "    }\n",
       "\n",
       "    .dataframe tbody tr th {\n",
       "        vertical-align: top;\n",
       "    }\n",
       "\n",
       "    .dataframe thead th {\n",
       "        text-align: right;\n",
       "    }\n",
       "</style>\n",
       "<table border=\"1\" class=\"dataframe\">\n",
       "  <thead>\n",
       "    <tr style=\"text-align: right;\">\n",
       "      <th></th>\n",
       "      <th>Invoice</th>\n",
       "      <th>StockCode</th>\n",
       "      <th>Description</th>\n",
       "      <th>Quantity</th>\n",
       "      <th>InvoiceDate</th>\n",
       "      <th>Price</th>\n",
       "      <th>Customer ID</th>\n",
       "      <th>Country</th>\n",
       "    </tr>\n",
       "  </thead>\n",
       "  <tbody>\n",
       "    <tr>\n",
       "      <th>0</th>\n",
       "      <td>489434</td>\n",
       "      <td>85048</td>\n",
       "      <td>15CM CHRISTMAS GLASS BALL 20 LIGHTS</td>\n",
       "      <td>12</td>\n",
       "      <td>2009-12-01 07:45:00</td>\n",
       "      <td>6.95</td>\n",
       "      <td>13085</td>\n",
       "      <td>United Kingdom</td>\n",
       "    </tr>\n",
       "    <tr>\n",
       "      <th>1</th>\n",
       "      <td>489434</td>\n",
       "      <td>79323P</td>\n",
       "      <td>PINK CHERRY LIGHTS</td>\n",
       "      <td>12</td>\n",
       "      <td>2009-12-01 07:45:00</td>\n",
       "      <td>6.75</td>\n",
       "      <td>13085</td>\n",
       "      <td>United Kingdom</td>\n",
       "    </tr>\n",
       "    <tr>\n",
       "      <th>2</th>\n",
       "      <td>489434</td>\n",
       "      <td>79323W</td>\n",
       "      <td>WHITE CHERRY LIGHTS</td>\n",
       "      <td>12</td>\n",
       "      <td>2009-12-01 07:45:00</td>\n",
       "      <td>6.75</td>\n",
       "      <td>13085</td>\n",
       "      <td>United Kingdom</td>\n",
       "    </tr>\n",
       "    <tr>\n",
       "      <th>3</th>\n",
       "      <td>489434</td>\n",
       "      <td>22041</td>\n",
       "      <td>RECORD FRAME 7\" SINGLE SIZE</td>\n",
       "      <td>48</td>\n",
       "      <td>2009-12-01 07:45:00</td>\n",
       "      <td>2.10</td>\n",
       "      <td>13085</td>\n",
       "      <td>United Kingdom</td>\n",
       "    </tr>\n",
       "    <tr>\n",
       "      <th>4</th>\n",
       "      <td>489434</td>\n",
       "      <td>21232</td>\n",
       "      <td>STRAWBERRY CERAMIC TRINKET BOX</td>\n",
       "      <td>24</td>\n",
       "      <td>2009-12-01 07:45:00</td>\n",
       "      <td>1.25</td>\n",
       "      <td>13085</td>\n",
       "      <td>United Kingdom</td>\n",
       "    </tr>\n",
       "  </tbody>\n",
       "</table>\n",
       "</div>"
      ],
      "text/plain": [
       "  Invoice StockCode                          Description  Quantity  \\\n",
       "0  489434     85048  15CM CHRISTMAS GLASS BALL 20 LIGHTS        12   \n",
       "1  489434    79323P                   PINK CHERRY LIGHTS        12   \n",
       "2  489434    79323W                  WHITE CHERRY LIGHTS        12   \n",
       "3  489434     22041         RECORD FRAME 7\" SINGLE SIZE         48   \n",
       "4  489434     21232       STRAWBERRY CERAMIC TRINKET BOX        24   \n",
       "\n",
       "          InvoiceDate  Price Customer ID         Country  \n",
       "0 2009-12-01 07:45:00   6.95       13085  United Kingdom  \n",
       "1 2009-12-01 07:45:00   6.75       13085  United Kingdom  \n",
       "2 2009-12-01 07:45:00   6.75       13085  United Kingdom  \n",
       "3 2009-12-01 07:45:00   2.10       13085  United Kingdom  \n",
       "4 2009-12-01 07:45:00   1.25       13085  United Kingdom  "
      ]
     },
     "execution_count": 26,
     "metadata": {},
     "output_type": "execute_result"
    }
   ],
   "source": [
    "df['Customer ID'] = df['Customer ID'].astype(str)\n",
    "df['Customer ID'] = df['Customer ID'].apply(lambda x: \"Unknown Customer ID\" if x=='0' else x)\n",
    "df.head()"
   ]
  },
  {
   "cell_type": "code",
   "execution_count": 27,
   "id": "2835fe7a-aa97-4269-b44e-467a81a088da",
   "metadata": {
    "panel-layout": {
     "height": 159003.5,
     "visible": true,
     "width": 100
    }
   },
   "outputs": [
    {
     "data": {
      "text/plain": [
       "Customer ID\n",
       "Unknown Customer ID    236122\n",
       "17841                   13097\n",
       "14911                   11613\n",
       "12748                    7307\n",
       "14606                    6709\n",
       "                        ...  \n",
       "16663                       1\n",
       "17752                       1\n",
       "13942                       1\n",
       "15913                       1\n",
       "16994                       1\n",
       "Name: count, Length: 5943, dtype: int64"
      ]
     },
     "execution_count": 27,
     "metadata": {},
     "output_type": "execute_result"
    }
   ],
   "source": [
    "df['Customer ID'].value_counts()"
   ]
  },
  {
   "cell_type": "code",
   "execution_count": 28,
   "id": "f0848e9b-66df-4e65-a75a-ae20357209f9",
   "metadata": {},
   "outputs": [],
   "source": [
    "df['StockCode'] = df['StockCode'].astype('category')"
   ]
  },
  {
   "cell_type": "code",
   "execution_count": 29,
   "id": "5860051f-959b-4ef8-8e93-145e6f1496b6",
   "metadata": {
    "panel-layout": {
     "height": 1450,
     "visible": true,
     "width": 100
    }
   },
   "outputs": [
    {
     "name": "stdout",
     "output_type": "stream",
     "text": [
      "<class 'pandas.core.frame.DataFrame'>\n",
      "Index: 1060486 entries, 0 to 1067370\n",
      "Data columns (total 8 columns):\n",
      " #   Column       Non-Null Count    Dtype         \n",
      "---  ------       --------------    -----         \n",
      " 0   Invoice      1060486 non-null  object        \n",
      " 1   StockCode    1060486 non-null  category      \n",
      " 2   Description  1060486 non-null  object        \n",
      " 3   Quantity     1060486 non-null  int64         \n",
      " 4   InvoiceDate  1060486 non-null  datetime64[ns]\n",
      " 5   Price        1060486 non-null  float64       \n",
      " 6   Customer ID  1060486 non-null  object        \n",
      " 7   Country      1060486 non-null  object        \n",
      "dtypes: category(1), datetime64[ns](1), float64(1), int64(1), object(4)\n",
      "memory usage: 66.9+ MB\n"
     ]
    }
   ],
   "source": [
    "df.info()"
   ]
  },
  {
   "cell_type": "code",
   "execution_count": 30,
   "id": "e49f66f4-f943-4cd5-a36b-10aaacfe7624",
   "metadata": {
    "panel-layout": {
     "height": 1699.5,
     "visible": true,
     "width": 100
    }
   },
   "outputs": [
    {
     "data": {
      "text/html": [
       "<div>\n",
       "<style scoped>\n",
       "    .dataframe tbody tr th:only-of-type {\n",
       "        vertical-align: middle;\n",
       "    }\n",
       "\n",
       "    .dataframe tbody tr th {\n",
       "        vertical-align: top;\n",
       "    }\n",
       "\n",
       "    .dataframe thead th {\n",
       "        text-align: right;\n",
       "    }\n",
       "</style>\n",
       "<table border=\"1\" class=\"dataframe\">\n",
       "  <thead>\n",
       "    <tr style=\"text-align: right;\">\n",
       "      <th></th>\n",
       "      <th>Quantity</th>\n",
       "      <th>Price</th>\n",
       "    </tr>\n",
       "  </thead>\n",
       "  <tbody>\n",
       "    <tr>\n",
       "      <th>count</th>\n",
       "      <td>1.060486e+06</td>\n",
       "      <td>1.060486e+06</td>\n",
       "    </tr>\n",
       "    <tr>\n",
       "      <th>mean</th>\n",
       "      <td>1.032382e+01</td>\n",
       "      <td>4.427132e+00</td>\n",
       "    </tr>\n",
       "    <tr>\n",
       "      <th>std</th>\n",
       "      <td>1.667588e+02</td>\n",
       "      <td>7.607323e+01</td>\n",
       "    </tr>\n",
       "    <tr>\n",
       "      <th>min</th>\n",
       "      <td>-8.099500e+04</td>\n",
       "      <td>0.000000e+00</td>\n",
       "    </tr>\n",
       "    <tr>\n",
       "      <th>25%</th>\n",
       "      <td>1.000000e+00</td>\n",
       "      <td>1.250000e+00</td>\n",
       "    </tr>\n",
       "    <tr>\n",
       "      <th>50%</th>\n",
       "      <td>3.000000e+00</td>\n",
       "      <td>2.100000e+00</td>\n",
       "    </tr>\n",
       "    <tr>\n",
       "      <th>75%</th>\n",
       "      <td>1.000000e+01</td>\n",
       "      <td>4.150000e+00</td>\n",
       "    </tr>\n",
       "    <tr>\n",
       "      <th>max</th>\n",
       "      <td>8.099500e+04</td>\n",
       "      <td>3.897000e+04</td>\n",
       "    </tr>\n",
       "  </tbody>\n",
       "</table>\n",
       "</div>"
      ],
      "text/plain": [
       "           Quantity         Price\n",
       "count  1.060486e+06  1.060486e+06\n",
       "mean   1.032382e+01  4.427132e+00\n",
       "std    1.667588e+02  7.607323e+01\n",
       "min   -8.099500e+04  0.000000e+00\n",
       "25%    1.000000e+00  1.250000e+00\n",
       "50%    3.000000e+00  2.100000e+00\n",
       "75%    1.000000e+01  4.150000e+00\n",
       "max    8.099500e+04  3.897000e+04"
      ]
     },
     "execution_count": 30,
     "metadata": {},
     "output_type": "execute_result"
    }
   ],
   "source": [
    "df.drop(columns=['InvoiceDate']).describe()"
   ]
  },
  {
   "cell_type": "code",
   "execution_count": 36,
   "id": "5827a7d8-b5eb-4a89-9e29-093f6c43e3d6",
   "metadata": {
    "panel-layout": {
     "height": 1682.828125,
     "visible": true,
     "width": 100
    }
   },
   "outputs": [
    {
     "data": {
      "text/plain": [
       "(Price\n",
       " 0.01        2\n",
       " 0.03        5\n",
       " 0.05        3\n",
       " 0.06        4\n",
       " 0.07        5\n",
       "            ..\n",
       " 8985.60     1\n",
       " 10468.80    2\n",
       " 10953.50    2\n",
       " 25111.09    1\n",
       " 38970.00    1\n",
       " Name: count, Length: 687, dtype: int64,\n",
       " 18744)"
      ]
     },
     "execution_count": 36,
     "metadata": {},
     "output_type": "execute_result"
    }
   ],
   "source": [
    "df[df['Quantity'] < 0]['Price'].value_counts().sort_index(), df[df['Quantity'] < 0]['Price'].value_counts().sort_index().sum()"
   ]
  },
  {
   "cell_type": "code",
   "execution_count": 37,
   "id": "1b6dd72c-b192-4cfc-b840-22e9713748ea",
   "metadata": {},
   "outputs": [
    {
     "data": {
      "text/plain": [
       "4932"
      ]
     },
     "execution_count": 37,
     "metadata": {},
     "output_type": "execute_result"
    }
   ],
   "source": [
    "df['StockCode'].nunique()"
   ]
  },
  {
   "cell_type": "code",
   "execution_count": 38,
   "id": "7ad17b8f-4556-48d4-85ad-f2c7aa61ec3c",
   "metadata": {},
   "outputs": [
    {
     "data": {
      "text/plain": [
       "43"
      ]
     },
     "execution_count": 38,
     "metadata": {},
     "output_type": "execute_result"
    }
   ],
   "source": [
    "df['Country'].nunique()"
   ]
  },
  {
   "cell_type": "code",
   "execution_count": 39,
   "id": "83febd3b-7ccd-424c-a720-4d1db9802905",
   "metadata": {},
   "outputs": [
    {
     "ename": "NameError",
     "evalue": "name 'SARIMA' is not defined",
     "output_type": "error",
     "traceback": [
      "\u001b[0;31m---------------------------------------------------------------------------\u001b[0m",
      "\u001b[0;31mNameError\u001b[0m                                 Traceback (most recent call last)",
      "Cell \u001b[0;32mIn[39], line 1\u001b[0m\n\u001b[0;32m----> 1\u001b[0m \u001b[38;5;241m-\u001b[39m\u001b[38;5;241m-\u001b[39m SARIMA\n\u001b[1;32m      2\u001b[0m \u001b[38;5;241m-\u001b[39m\u001b[38;5;241m-\u001b[39m ARIMA\n\u001b[1;32m      3\u001b[0m \u001b[38;5;241m-\u001b[39m\u001b[38;5;241m-\u001b[39m FBProphet\n",
      "\u001b[0;31mNameError\u001b[0m: name 'SARIMA' is not defined"
     ]
    }
   ],
   "source": [
    "-- SARIMA\n",
    "-- ARIMA\n",
    "-- FBProphet\n",
    "-- SARIMAX\n",
    "-- Holt winters\n",
    "-- "
   ]
  },
  {
   "cell_type": "code",
   "execution_count": null,
   "id": "c74ae295-b108-441b-b922-92b7768afa67",
   "metadata": {},
   "outputs": [],
   "source": []
  }
 ],
 "metadata": {
  "kernelspec": {
   "display_name": "Python 3 (ipykernel)",
   "language": "python",
   "name": "python3"
  },
  "language_info": {
   "codemirror_mode": {
    "name": "ipython",
    "version": 3
   },
   "file_extension": ".py",
   "mimetype": "text/x-python",
   "name": "python",
   "nbconvert_exporter": "python",
   "pygments_lexer": "ipython3",
   "version": "3.12.7"
  },
  "panel-cell-order": [
   "64f83655-20ba-487f-b1a9-33b79773b35d",
   "a6042e50-f0d8-4e47-b5e1-a08262719199",
   "272ee990-9208-4f5f-a196-039a962319f8",
   "e13e875b-a230-45f0-87d6-2a38900029e6",
   "c3169bcd-2fb2-427f-bd58-177352f4b20b",
   "bf32c11a-3829-4732-9059-8de03c6b8ab8",
   "a42564ed-ef37-4d73-bdad-efd477f5eb19",
   "25d156ea-1ae5-4a30-a4d1-b56bcaa814e5",
   "e06b25d4-49c0-428b-aa4e-d87dd22b3cd5",
   "61de256a-beaa-443b-8ea4-ff3e7d5a6294",
   "ad6f7516-228e-4f0d-8ced-d9a3372303c1",
   "e2535361-5a97-4079-b648-aa6c8b97daf1",
   "49a3817f-15ac-455e-abf6-8df51f9ca8ee",
   "531c279e-5f9f-4368-8111-92f9326a4b70",
   "ca016413-f350-450c-9a66-83daa6fb4fbc",
   "4c6bf2dc-7932-4556-88b5-d075676ab003",
   "68d5132a-d59f-4098-a338-db050ea839c7",
   "4993eae7-177b-452f-97c3-984544d85835",
   "58733157-90e0-4701-9045-4e9ac18624ed",
   "25c5312c-256c-4820-abe0-147fc000c13f",
   "096d0da2-9e1f-4c05-b6fb-da1714fe80b2",
   "83c157dc-6533-4504-83f1-a7453b0d461b",
   "6ca66aa2-313e-4df8-846c-666aa6a7b1d3",
   "93a1b77c-131a-43b3-a2c9-f5dc8e1c8ed7",
   "89655914-d3de-4d52-a39b-740588d847a4",
   "00147612-548f-418f-a91b-56480e843ab9",
   "d5d2afd6-2bda-41a0-b909-8ec730912640",
   "3c429055-5375-42e9-aa25-fa8f02b79f6e",
   "127ba41c-9e26-4a97-830a-bab5e85989e0",
   "aaddc502-295a-4231-8f53-6a76ee4f4436",
   "cbdc5d6b-51f3-4e4a-82bd-d89972d94d43",
   "1ee3a993-692e-4ce0-b81c-6a3bea9e02e8",
   "2835fe7a-aa97-4269-b44e-467a81a088da",
   "5860051f-959b-4ef8-8e93-145e6f1496b6",
   "e49f66f4-f943-4cd5-a36b-10aaacfe7624",
   "5827a7d8-b5eb-4a89-9e29-093f6c43e3d6"
  ]
 },
 "nbformat": 4,
 "nbformat_minor": 5
}
